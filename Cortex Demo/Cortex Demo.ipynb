{
 "metadata": {
  "kernelspec": {
   "display_name": "Streamlit Notebook",
   "name": "streamlit"
  }
 },
 "nbformat_minor": 5,
 "nbformat": 4,
 "cells": [
  {
   "cell_type": "markdown",
   "id": "beb9b164-5610-4745-b0c5-07e78cc8896e",
   "metadata": {
    "collapsed": false,
    "name": "cell6"
   },
   "source": [
    "# Prepare Data"
   ]
  },
  {
   "cell_type": "code",
   "execution_count": null,
   "id": "3775908f-ca36-4846-8f38-5adca39217f2",
   "metadata": {
    "collapsed": false,
    "language": "sql",
    "name": "cell1"
   },
   "outputs": [],
   "source": [
    "CREATE or REPLACE file format csvformat\n",
    "  SKIP_HEADER = 1\n",
    "  FIELD_OPTIONALLY_ENCLOSED_BY = '\"'\n",
    "  type = 'CSV';\n",
    "\n",
    "CREATE or REPLACE stage call_transcripts_data_stage\n",
    "  file_format = csvformat\n",
    "  url = 's3://sfquickstarts/misc/call_transcripts/';\n",
    "\n",
    "CREATE or REPLACE table CALL_TRANSCRIPTS ( \n",
    "  date_created date,\n",
    "  language varchar(60),\n",
    "  country varchar(60),\n",
    "  product varchar(60),\n",
    "  category varchar(60),\n",
    "  damage_type varchar(90),\n",
    "  transcript varchar\n",
    ");\n",
    "\n",
    "COPY into CALL_TRANSCRIPTS\n",
    "  from @call_transcripts_data_stage;"
   ]
  },
  {
   "cell_type": "code",
   "execution_count": null,
   "id": "8d50cbf4-0c8d-4950-86cb-114990437ac9",
   "metadata": {
    "collapsed": false,
    "language": "sql",
    "name": "cell2"
   },
   "outputs": [],
   "source": [
    "SELECT * FROM CALL_TRANSCRIPTS;"
   ]
  },
  {
   "cell_type": "markdown",
   "id": "01e2c7d9-6105-4d17-9316-f66305652001",
   "metadata": {
    "collapsed": false,
    "name": "cell8"
   },
   "source": [
    "# Translate"
   ]
  },
  {
   "cell_type": "code",
   "execution_count": null,
   "id": "c695373e-ac74-4b62-a1f1-08206cbd5c81",
   "metadata": {
    "collapsed": false,
    "language": "sql",
    "name": "cell3"
   },
   "outputs": [],
   "source": [
    "SELECT SNOWFLAKE.cortex.translate('how are you?','en_US','fr');"
   ]
  },
  {
   "cell_type": "code",
   "execution_count": null,
   "id": "8f5cd5f8-bea2-4e7a-9c90-95f0157819a0",
   "metadata": {
    "collapsed": false,
    "language": "sql",
    "name": "cell4"
   },
   "outputs": [],
   "source": [
    "SELECT TRANSCRIPT,SNOWFLAKE.CORTEX.TRANSLATE(TRANSCRIPT,'fr','en_XX')\n",
    "FROM CALL_TRANSCRIPTS \n",
    "WHERE LANGUAGE = 'French';"
   ]
  },
  {
   "cell_type": "markdown",
   "id": "279a6beb-6d5b-410b-81ff-d98df68085f6",
   "metadata": {
    "collapsed": false,
    "name": "cell5"
   },
   "source": "# Sentiment\n> Note:\n>\n> Score is floating point between `-1` and `1`; \n> * `-1` = most negative, \n> * `0`  = neutral\n> * `1`  = positive"
  },
  {
   "cell_type": "code",
   "execution_count": null,
   "id": "eae13110-80d4-41a4-b329-b4897ee09aca",
   "metadata": {
    "collapsed": false,
    "language": "sql",
    "name": "cell7"
   },
   "outputs": [],
   "source": [
    "SELECT TRANSCRIPT, SNOWFLAKE.CORTEX.SENTIMENT(TRANSCRIPT) \n",
    "FROM CALL_TRANSCRIPTS\n",
    "WHERE LANGUAGE = 'English';"
   ]
  },
  {
   "cell_type": "markdown",
   "id": "bc913eee-de22-4977-884b-ddc486a51879",
   "metadata": {
    "collapsed": false,
    "name": "cell9"
   },
   "source": [
    "# Summarize"
   ]
  },
  {
   "cell_type": "code",
   "execution_count": null,
   "id": "beef5139-2df1-4c57-9101-61b80a804261",
   "metadata": {
    "collapsed": false,
    "language": "sql",
    "name": "cell10"
   },
   "outputs": [],
   "source": [
    "SELECT TRANSCRIPT,SNOWFLAKE.CORTEX.SUMMARIZE(TRANSCRIPT) \n",
    "FROM CALL_TRANSCRIPTS\n",
    "WHERE LANGUAGE = 'English' limit 1;"
   ]
  },
  {
   "cell_type": "markdown",
   "id": "13f88265-c8c6-4166-b7cc-1183503e4bba",
   "metadata": {
    "name": "cell11",
    "collapsed": false
   },
   "source": "# Prompt Engineering"
  },
  {
   "cell_type": "code",
   "id": "614f9f36-ffc0-43a9-9987-5e7bc8d52ef4",
   "metadata": {
    "language": "sql",
    "name": "cell12",
    "collapsed": false
   },
   "outputs": [],
   "source": "SET prompt = \n'###\nSummarize this transcript in less than 200 words. \nPut the product name, defect and summary in JSON format. \n###';\nSELECT SNOWFLAKE.CORTEX.COMPLETE('snowflake-arctic',concat('[INST]',$prompt,transcript,'[/INST]')) AS summary\nFROM call_transcripts WHERE LANGUAGE = 'English' LIMIT 1;",
   "execution_count": null
  },
  {
   "cell_type": "markdown",
   "id": "9d222b88-82d9-42de-87fb-ad0efefddcff",
   "metadata": {
    "name": "cell13",
    "collapsed": false
   },
   "source": "> **NOTE**:\n> \n> Snowflake currently suppports the following LLM:\n> * snowflake-arctic\n> * mistral-large\n> * reka-flash\n> * reka-core\n> * mixtral-8x7b\n> * llama2-70b-chat\n> * llama3-8b\n> * llama3-70b\n> * mistral-7b\n> * gemma-7b "
  }
 ]
}