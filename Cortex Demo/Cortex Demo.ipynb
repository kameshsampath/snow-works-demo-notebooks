{
 "cells": [
  {
   "cell_type": "markdown",
   "id": "beb9b164-5610-4745-b0c5-07e78cc8896e",
   "metadata": {
    "collapsed": false,
    "name": "cell6"
   },
   "source": [
    "# Prepare Data"
   ]
  },
  {
   "cell_type": "code",
   "execution_count": null,
   "id": "3775908f-ca36-4846-8f38-5adca39217f2",
   "metadata": {
    "collapsed": false,
    "language": "sql",
    "name": "cell1"
   },
   "outputs": [],
   "source": [
    "CREATE or REPLACE file format csvformat\n",
    "  SKIP_HEADER = 1\n",
    "  FIELD_OPTIONALLY_ENCLOSED_BY = '\"'\n",
    "  type = 'CSV';\n",
    "\n",
    "CREATE or REPLACE stage call_transcripts_data_stage\n",
    "  file_format = csvformat\n",
    "  url = 's3://sfquickstarts/misc/call_transcripts/';\n",
    "\n",
    "CREATE or REPLACE table CALL_TRANSCRIPTS ( \n",
    "  date_created date,\n",
    "  language varchar(60),\n",
    "  country varchar(60),\n",
    "  product varchar(60),\n",
    "  category varchar(60),\n",
    "  damage_type varchar(90),\n",
    "  transcript varchar\n",
    ");\n",
    "\n",
    "COPY into CALL_TRANSCRIPTS\n",
    "  from @call_transcripts_data_stage;"
   ]
  },
  {
   "cell_type": "code",
   "execution_count": null,
   "id": "8d50cbf4-0c8d-4950-86cb-114990437ac9",
   "metadata": {
    "collapsed": false,
    "language": "sql",
    "name": "cell2"
   },
   "outputs": [],
   "source": [
    "SELECT * FROM CALL_TRANSCRIPTS;"
   ]
  },
  {
   "cell_type": "markdown",
   "id": "01e2c7d9-6105-4d17-9316-f66305652001",
   "metadata": {
    "collapsed": false,
    "name": "cell8"
   },
   "source": [
    "# Translate"
   ]
  },
  {
   "cell_type": "code",
   "execution_count": null,
   "id": "c695373e-ac74-4b62-a1f1-08206cbd5c81",
   "metadata": {
    "collapsed": false,
    "language": "sql",
    "name": "cell3"
   },
   "outputs": [],
   "source": [
    "SELECT SNOWFLAKE.cortex.translate('how are you?','en_US','fr');"
   ]
  },
  {
   "cell_type": "code",
   "execution_count": null,
   "id": "8f5cd5f8-bea2-4e7a-9c90-95f0157819a0",
   "metadata": {
    "collapsed": false,
    "language": "sql",
    "name": "cell4"
   },
   "outputs": [],
   "source": [
    "SELECT TRANSCRIPT,SNOWFLAKE.CORTEX.TRANSLATE(TRANSCRIPT,'fr','en_XX')\n",
    "FROM CALL_TRANSCRIPTS \n",
    "WHERE LANGUAGE = 'French';"
   ]
  },
  {
   "cell_type": "markdown",
   "id": "279a6beb-6d5b-410b-81ff-d98df68085f6",
   "metadata": {
    "collapsed": false,
    "name": "cell5"
   },
   "source": [
    "# Sentiment\n",
    "> Note:\n",
    ">\n",
    "> Score is between `-1` and `1`; \n",
    "> * `-1` = most negative, \n",
    "> * `0`  = neutral\n",
    "> * `1`  = positive"
   ]
  },
  {
   "cell_type": "code",
   "execution_count": null,
   "id": "eae13110-80d4-41a4-b329-b4897ee09aca",
   "metadata": {
    "collapsed": false,
    "language": "sql",
    "name": "cell7"
   },
   "outputs": [],
   "source": [
    "SELECT TRANSCRIPT, SNOWFLAKE.CORTEX.SENTIMENT(TRANSCRIPT) \n",
    "FROM CALL_TRANSCRIPTS\n",
    "WHERE LANGUAGE = 'English';"
   ]
  },
  {
   "cell_type": "markdown",
   "id": "bc913eee-de22-4977-884b-ddc486a51879",
   "metadata": {
    "collapsed": false,
    "name": "cell9"
   },
   "source": [
    "# Summarize"
   ]
  },
  {
   "cell_type": "code",
   "execution_count": null,
   "id": "beef5139-2df1-4c57-9101-61b80a804261",
   "metadata": {
    "collapsed": false,
    "language": "sql",
    "name": "cell10"
   },
   "outputs": [],
   "source": [
    "SELECT TRANSCRIPT,SNOWFLAKE.CORTEX.SUMMARIZE(TRANSCRIPT) \n",
    "FROM CALL_TRANSCRIPTS\n",
    "WHERE LANGUAGE = 'English' limit 1;"
   ]
  }
 ],
 "metadata": {
  "kernelspec": {
   "display_name": "Streamlit Notebook",
   "name": "streamlit"
  }
 },
 "nbformat": 4,
 "nbformat_minor": 5
}
