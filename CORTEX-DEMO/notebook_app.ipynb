{
 "metadata": {
  "kernelspec": {
   "display_name": "Streamlit Notebook",
   "name": "streamlit"
  }
 },
 "nbformat_minor": 5,
 "nbformat": 4,
 "cells": [
  {
   "cell_type": "markdown",
   "id": "beb9b164-5610-4745-b0c5-07e78cc8896e",
   "metadata": {
    "name": "cell6",
    "collapsed": false
   },
   "source": "# Prepare Data"
  },
  {
   "cell_type": "code",
   "id": "3775908f-ca36-4846-8f38-5adca39217f2",
   "metadata": {
    "language": "sql",
    "name": "cell1",
    "collapsed": false
   },
   "source": "CREATE or REPLACE file format csvformat\n  SKIP_HEADER = 1\n  FIELD_OPTIONALLY_ENCLOSED_BY = '\"'\n  type = 'CSV';\n\nCREATE or REPLACE stage call_transcripts_data_stage\n  file_format = csvformat\n  url = 's3://sfquickstarts/misc/call_transcripts/';\n\nCREATE or REPLACE table CALL_TRANSCRIPTS ( \n  date_created date,\n  language varchar(60),\n  country varchar(60),\n  product varchar(60),\n  category varchar(60),\n  damage_type varchar(90),\n  transcript varchar\n);\n\nCOPY into CALL_TRANSCRIPTS\n  from @call_transcripts_data_stage;",
   "execution_count": null,
   "outputs": []
  },
  {
   "cell_type": "code",
   "id": "8d50cbf4-0c8d-4950-86cb-114990437ac9",
   "metadata": {
    "language": "sql",
    "name": "cell2",
    "collapsed": false
   },
   "source": "SELECT * FROM CALL_TRANSCRIPTS;",
   "execution_count": null,
   "outputs": []
  },
  {
   "cell_type": "markdown",
   "id": "01e2c7d9-6105-4d17-9316-f66305652001",
   "metadata": {
    "name": "cell8",
    "collapsed": false
   },
   "source": "# Translate"
  },
  {
   "cell_type": "code",
   "id": "c695373e-ac74-4b62-a1f1-08206cbd5c81",
   "metadata": {
    "language": "sql",
    "name": "cell3",
    "collapsed": false
   },
   "source": "SELECT SNOWFLAKE.cortex.translate('how are you?','en_US','fr');",
   "execution_count": null,
   "outputs": []
  },
  {
   "cell_type": "code",
   "id": "8f5cd5f8-bea2-4e7a-9c90-95f0157819a0",
   "metadata": {
    "language": "sql",
    "name": "cell4",
    "collapsed": false
   },
   "outputs": [],
   "source": "select transcript,snowflake.cortex.translate(transcript,'fr','en_XX')\nfrom call_transcripts \nwhere language = 'French';",
   "execution_count": null
  },
  {
   "cell_type": "markdown",
   "id": "279a6beb-6d5b-410b-81ff-d98df68085f6",
   "metadata": {
    "name": "cell5",
    "collapsed": false
   },
   "source": "# Sentiment\n> Note:\n>\n> Score is between `-1` and `1`; \n> * `-1` = most negative, \n> * `0`  = neutral\n> * `1`  = positive"
  },
  {
   "cell_type": "code",
   "id": "eae13110-80d4-41a4-b329-b4897ee09aca",
   "metadata": {
    "language": "sql",
    "name": "cell7",
    "collapsed": false
   },
   "outputs": [],
   "source": "select transcript, snowflake.cortex.sentiment(transcript) \nfrom call_transcripts \nwhere language = 'English';",
   "execution_count": null
  },
  {
   "cell_type": "markdown",
   "id": "bc913eee-de22-4977-884b-ddc486a51879",
   "metadata": {
    "name": "cell9",
    "collapsed": false
   },
   "source": "# Summarize"
  },
  {
   "cell_type": "code",
   "id": "beef5139-2df1-4c57-9101-61b80a804261",
   "metadata": {
    "language": "sql",
    "name": "cell10",
    "collapsed": false
   },
   "outputs": [],
   "source": "select transcript,snowflake.cortex.summarize(transcript) \nfrom call_transcripts \nwhere language = 'English' limit 1;",
   "execution_count": null
  }
 ]
}